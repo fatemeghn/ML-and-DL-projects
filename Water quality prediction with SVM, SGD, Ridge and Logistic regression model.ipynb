{
 "cells": [
  {
   "cell_type": "markdown",
   "id": "cee7893a",
   "metadata": {},
   "source": [
    "# Introduction:\n",
    "\n",
    "In this lab, I will work with a dataset about the quality of water based on 9 features and try to build a model to predict and detect if a water is potable or not (whether its safe to drink or not) with the information given in the dataset. My model will be a Supervised model as the dataset has a label and the label is a binary."
   ]
  },
  {
   "cell_type": "markdown",
   "id": "1140c344",
   "metadata": {},
   "source": [
    "## About the data:\n",
    "\n",
    "The dataset is from the kaggle website (https://www.kaggle.com/datasets/adityakadiwal/water-potability), it consists of 3276 rows and 10 columns but also includes null values that I will deal with ahead."
   ]
  },
  {
   "cell_type": "markdown",
   "id": "08b1069e",
   "metadata": {},
   "source": [
    "# About the models \n",
    "\n",
    "### Support Vector Machine Algorithm\n",
    "\n",
    "In machine learning, support vector machines (SVMs, also support vector networks) are supervised learning models with associated learning algorithms that analyze data for classification and regression analysis. SVMs are one of the most robust prediction methods, being based on statistical learning frameworks or VC theory proposed by Vapnik (1982, 1995) and Chervonenkis (1974)\n",
    "\n",
    "### Logistic regression Algorithm\n",
    "\n",
    "In statistics, the logistic model (or logit model) is a statistical model that models the probability of an event taking place by having the log-odds for the event be a linear combination of one or more independent variables. Logistic regression is an important machine learning algorithm. The goal is to model the probability of a random variable \n",
    "Y being 0 or 1 given experimental data.\n",
    "\n",
    "### Ridge classification Algorithm\n",
    "\n",
    "In machine learning, ridge classification is a technique used to analyze linear discriminant models. It is a form of regularization that penalizes model coefficients to prevent overfitting. Ridge classification works by adding a penalty term to the cost function that discourages complexity. The penalty term is typically the sum of the squared coefficients of the features in the model.\n",
    "\n",
    "### Stochastic Gradient Descent Algorithm\n",
    "\n",
    "The class SGDClassifier implements a plain stochastic gradient descent learning routine which supports different loss functions and penalties for classification."
   ]
  },
  {
   "cell_type": "markdown",
   "id": "874da6a7",
   "metadata": {},
   "source": [
    "# Importing the libraries\n",
    "\n",
    "The first thing that we need to do is to import all the libraries necessary for our work in this lab."
   ]
  },
  {
   "cell_type": "code",
   "execution_count": 1,
   "id": "9b98b6b0",
   "metadata": {},
   "outputs": [],
   "source": [
    "import pandas as pd\n",
    "import numpy as np\n",
    "import matplotlib.pyplot as plt\n",
    "import seaborn as sb\n",
    "from sklearn.preprocessing import minmax_scale\n",
    "import itertools\n",
    "from sklearn.model_selection import train_test_split\n",
    "from sklearn.svm import LinearSVC\n",
    "from sklearn import svm\n",
    "from sklearn.linear_model import LogisticRegression, RidgeClassifier, SGDClassifier\n",
    "from sklearn.model_selection import cross_val_score\n",
    "from sklearn.metrics import accuracy_score, recall_score, precision_score, f1_score, confusion_matrix, classification_report, jaccard_score"
   ]
  },
  {
   "cell_type": "markdown",
   "id": "fd1510f5",
   "metadata": {},
   "source": [
    "# Calling the data\n",
    "\n",
    "The data is stored in my system locally so I will just call the data from my hard drive."
   ]
  },
  {
   "cell_type": "code",
   "execution_count": 2,
   "id": "d3562cc0",
   "metadata": {},
   "outputs": [
    {
     "data": {
      "text/html": [
       "<div>\n",
       "<style scoped>\n",
       "    .dataframe tbody tr th:only-of-type {\n",
       "        vertical-align: middle;\n",
       "    }\n",
       "\n",
       "    .dataframe tbody tr th {\n",
       "        vertical-align: top;\n",
       "    }\n",
       "\n",
       "    .dataframe thead th {\n",
       "        text-align: right;\n",
       "    }\n",
       "</style>\n",
       "<table border=\"1\" class=\"dataframe\">\n",
       "  <thead>\n",
       "    <tr style=\"text-align: right;\">\n",
       "      <th></th>\n",
       "      <th>ph</th>\n",
       "      <th>Hardness</th>\n",
       "      <th>Solids</th>\n",
       "      <th>Chloramines</th>\n",
       "      <th>Sulfate</th>\n",
       "      <th>Conductivity</th>\n",
       "      <th>Organic_carbon</th>\n",
       "      <th>Trihalomethanes</th>\n",
       "      <th>Turbidity</th>\n",
       "      <th>Potability</th>\n",
       "    </tr>\n",
       "  </thead>\n",
       "  <tbody>\n",
       "    <tr>\n",
       "      <th>0</th>\n",
       "      <td>NaN</td>\n",
       "      <td>204.890455</td>\n",
       "      <td>20791.318981</td>\n",
       "      <td>7.300212</td>\n",
       "      <td>368.516441</td>\n",
       "      <td>564.308654</td>\n",
       "      <td>10.379783</td>\n",
       "      <td>86.990970</td>\n",
       "      <td>2.963135</td>\n",
       "      <td>0</td>\n",
       "    </tr>\n",
       "    <tr>\n",
       "      <th>1</th>\n",
       "      <td>3.716080</td>\n",
       "      <td>129.422921</td>\n",
       "      <td>18630.057858</td>\n",
       "      <td>6.635246</td>\n",
       "      <td>NaN</td>\n",
       "      <td>592.885359</td>\n",
       "      <td>15.180013</td>\n",
       "      <td>56.329076</td>\n",
       "      <td>4.500656</td>\n",
       "      <td>0</td>\n",
       "    </tr>\n",
       "    <tr>\n",
       "      <th>2</th>\n",
       "      <td>8.099124</td>\n",
       "      <td>224.236259</td>\n",
       "      <td>19909.541732</td>\n",
       "      <td>9.275884</td>\n",
       "      <td>NaN</td>\n",
       "      <td>418.606213</td>\n",
       "      <td>16.868637</td>\n",
       "      <td>66.420093</td>\n",
       "      <td>3.055934</td>\n",
       "      <td>0</td>\n",
       "    </tr>\n",
       "    <tr>\n",
       "      <th>3</th>\n",
       "      <td>8.316766</td>\n",
       "      <td>214.373394</td>\n",
       "      <td>22018.417441</td>\n",
       "      <td>8.059332</td>\n",
       "      <td>356.886136</td>\n",
       "      <td>363.266516</td>\n",
       "      <td>18.436524</td>\n",
       "      <td>100.341674</td>\n",
       "      <td>4.628771</td>\n",
       "      <td>0</td>\n",
       "    </tr>\n",
       "    <tr>\n",
       "      <th>4</th>\n",
       "      <td>9.092223</td>\n",
       "      <td>181.101509</td>\n",
       "      <td>17978.986339</td>\n",
       "      <td>6.546600</td>\n",
       "      <td>310.135738</td>\n",
       "      <td>398.410813</td>\n",
       "      <td>11.558279</td>\n",
       "      <td>31.997993</td>\n",
       "      <td>4.075075</td>\n",
       "      <td>0</td>\n",
       "    </tr>\n",
       "  </tbody>\n",
       "</table>\n",
       "</div>"
      ],
      "text/plain": [
       "         ph    Hardness        Solids  Chloramines     Sulfate  Conductivity  \\\n",
       "0       NaN  204.890455  20791.318981     7.300212  368.516441    564.308654   \n",
       "1  3.716080  129.422921  18630.057858     6.635246         NaN    592.885359   \n",
       "2  8.099124  224.236259  19909.541732     9.275884         NaN    418.606213   \n",
       "3  8.316766  214.373394  22018.417441     8.059332  356.886136    363.266516   \n",
       "4  9.092223  181.101509  17978.986339     6.546600  310.135738    398.410813   \n",
       "\n",
       "   Organic_carbon  Trihalomethanes  Turbidity  Potability  \n",
       "0       10.379783        86.990970   2.963135           0  \n",
       "1       15.180013        56.329076   4.500656           0  \n",
       "2       16.868637        66.420093   3.055934           0  \n",
       "3       18.436524       100.341674   4.628771           0  \n",
       "4       11.558279        31.997993   4.075075           0  "
      ]
     },
     "execution_count": 2,
     "metadata": {},
     "output_type": "execute_result"
    }
   ],
   "source": [
    "df=pd.read_csv(\"E:/Reza/New folder/Python/Datasets/water_potability.CSV\")\n",
    "df.head()"
   ]
  },
  {
   "cell_type": "markdown",
   "id": "22181189",
   "metadata": {},
   "source": [
    "# Data Cleaning\n",
    "\n",
    "Before building our model, we need to look into our data carefully to see if there are any modifications that we can do to help build a better model. These modifications could be data cleaning, feature selection, feature extraction, data normalization and.... Here, there is an issue with the data in that it is filled with non numeric data which cannot be processed by the model. What I will now do is to turn these non-numeric data to numeric data:"
   ]
  },
  {
   "cell_type": "code",
   "execution_count": 3,
   "id": "659f75ee",
   "metadata": {},
   "outputs": [
    {
     "data": {
      "text/plain": [
       "ph                 491\n",
       "Hardness             0\n",
       "Solids               0\n",
       "Chloramines          0\n",
       "Sulfate            781\n",
       "Conductivity         0\n",
       "Organic_carbon       0\n",
       "Trihalomethanes    162\n",
       "Turbidity            0\n",
       "Potability           0\n",
       "dtype: int64"
      ]
     },
     "execution_count": 3,
     "metadata": {},
     "output_type": "execute_result"
    }
   ],
   "source": [
    "#First I check to see whether there are any missing data in our dataset\n",
    "df.isnull().sum()\n",
    "#We see that 'ph', 'Sulfate' and 'Trihalomethanes' features all have missing value"
   ]
  },
  {
   "cell_type": "code",
   "execution_count": 4,
   "id": "86c7742a",
   "metadata": {},
   "outputs": [
    {
     "data": {
      "text/plain": [
       "ph                 0.149878\n",
       "Hardness           0.000000\n",
       "Solids             0.000000\n",
       "Chloramines        0.000000\n",
       "Sulfate            0.238400\n",
       "Conductivity       0.000000\n",
       "Organic_carbon     0.000000\n",
       "Trihalomethanes    0.049451\n",
       "Turbidity          0.000000\n",
       "Potability         0.000000\n",
       "dtype: float64"
      ]
     },
     "execution_count": 4,
     "metadata": {},
     "output_type": "execute_result"
    }
   ],
   "source": [
    "df.isnull().mean()\n",
    "#I will use this code to see what percentage of the data is missing for the three columns mentioned above\n",
    "#we can see that for 'ph' and 'Trihalomethanes' its at 14% and 4% respectively that are not big number and so with some data preprocessing techniques we can fix it\n",
    "#However for 'Sulfate' the percentage of missing data is 23% and that is big part of the data"
   ]
  },
  {
   "cell_type": "markdown",
   "id": "9867297d",
   "metadata": {},
   "source": [
    "# KNNImputer\n",
    "\n",
    "For dealing with the missing values, rather than deleting them or filling the missing values with the mean or mode of that column, I have used the k-Nearest Neighbors algorithm. With the help of this algorithm, \"each sample’s missing values are imputed using the mean value from n_neighbors nearest neighbors found in the training set.\" (https://scikit-learn.org/stable/modules/generated/sklearn.impute.KNNImputer.html)"
   ]
  },
  {
   "cell_type": "code",
   "execution_count": 5,
   "id": "5c0f569d",
   "metadata": {},
   "outputs": [
    {
     "data": {
      "text/html": [
       "<div>\n",
       "<style scoped>\n",
       "    .dataframe tbody tr th:only-of-type {\n",
       "        vertical-align: middle;\n",
       "    }\n",
       "\n",
       "    .dataframe tbody tr th {\n",
       "        vertical-align: top;\n",
       "    }\n",
       "\n",
       "    .dataframe thead th {\n",
       "        text-align: right;\n",
       "    }\n",
       "</style>\n",
       "<table border=\"1\" class=\"dataframe\">\n",
       "  <thead>\n",
       "    <tr style=\"text-align: right;\">\n",
       "      <th></th>\n",
       "      <th>ph</th>\n",
       "      <th>Hardness</th>\n",
       "      <th>Solids</th>\n",
       "      <th>Chloramines</th>\n",
       "      <th>Sulfate</th>\n",
       "      <th>Conductivity</th>\n",
       "      <th>Organic_carbon</th>\n",
       "      <th>Trihalomethanes</th>\n",
       "      <th>Turbidity</th>\n",
       "    </tr>\n",
       "  </thead>\n",
       "  <tbody>\n",
       "    <tr>\n",
       "      <th>0</th>\n",
       "      <td>7.156857</td>\n",
       "      <td>204.890455</td>\n",
       "      <td>20791.318981</td>\n",
       "      <td>7.300212</td>\n",
       "      <td>368.516441</td>\n",
       "      <td>564.308654</td>\n",
       "      <td>10.379783</td>\n",
       "      <td>86.990970</td>\n",
       "      <td>2.963135</td>\n",
       "    </tr>\n",
       "    <tr>\n",
       "      <th>1</th>\n",
       "      <td>3.716080</td>\n",
       "      <td>129.422921</td>\n",
       "      <td>18630.057858</td>\n",
       "      <td>6.635246</td>\n",
       "      <td>336.094350</td>\n",
       "      <td>592.885359</td>\n",
       "      <td>15.180013</td>\n",
       "      <td>56.329076</td>\n",
       "      <td>4.500656</td>\n",
       "    </tr>\n",
       "    <tr>\n",
       "      <th>2</th>\n",
       "      <td>8.099124</td>\n",
       "      <td>224.236259</td>\n",
       "      <td>19909.541732</td>\n",
       "      <td>9.275884</td>\n",
       "      <td>330.449166</td>\n",
       "      <td>418.606213</td>\n",
       "      <td>16.868637</td>\n",
       "      <td>66.420093</td>\n",
       "      <td>3.055934</td>\n",
       "    </tr>\n",
       "    <tr>\n",
       "      <th>3</th>\n",
       "      <td>8.316766</td>\n",
       "      <td>214.373394</td>\n",
       "      <td>22018.417441</td>\n",
       "      <td>8.059332</td>\n",
       "      <td>356.886136</td>\n",
       "      <td>363.266516</td>\n",
       "      <td>18.436524</td>\n",
       "      <td>100.341674</td>\n",
       "      <td>4.628771</td>\n",
       "    </tr>\n",
       "    <tr>\n",
       "      <th>4</th>\n",
       "      <td>9.092223</td>\n",
       "      <td>181.101509</td>\n",
       "      <td>17978.986339</td>\n",
       "      <td>6.546600</td>\n",
       "      <td>310.135738</td>\n",
       "      <td>398.410813</td>\n",
       "      <td>11.558279</td>\n",
       "      <td>31.997993</td>\n",
       "      <td>4.075075</td>\n",
       "    </tr>\n",
       "  </tbody>\n",
       "</table>\n",
       "</div>"
      ],
      "text/plain": [
       "         ph    Hardness        Solids  Chloramines     Sulfate  Conductivity  \\\n",
       "0  7.156857  204.890455  20791.318981     7.300212  368.516441    564.308654   \n",
       "1  3.716080  129.422921  18630.057858     6.635246  336.094350    592.885359   \n",
       "2  8.099124  224.236259  19909.541732     9.275884  330.449166    418.606213   \n",
       "3  8.316766  214.373394  22018.417441     8.059332  356.886136    363.266516   \n",
       "4  9.092223  181.101509  17978.986339     6.546600  310.135738    398.410813   \n",
       "\n",
       "   Organic_carbon  Trihalomethanes  Turbidity  \n",
       "0       10.379783        86.990970   2.963135  \n",
       "1       15.180013        56.329076   4.500656  \n",
       "2       16.868637        66.420093   3.055934  \n",
       "3       18.436524       100.341674   4.628771  \n",
       "4       11.558279        31.997993   4.075075  "
      ]
     },
     "execution_count": 5,
     "metadata": {},
     "output_type": "execute_result"
    }
   ],
   "source": [
    "#First I will drop the label column, 'Potability', as it has no missing value\n",
    "x=df.drop(['Potability'], axis=1)\n",
    "from sklearn.impute import KNNImputer\n",
    "imputer = KNNImputer(n_neighbors=5, weights='uniform', metric='nan_euclidean')\n",
    "imputer.fit(x)\n",
    "df_imputer= imputer.transform(x)\n",
    "x=pd.DataFrame(df_imputer , index=x.index, columns=x.columns)\n",
    "x.head()"
   ]
  },
  {
   "cell_type": "code",
   "execution_count": 6,
   "id": "2d5abe45",
   "metadata": {},
   "outputs": [
    {
     "data": {
      "text/plain": [
       "ph                 0\n",
       "Hardness           0\n",
       "Solids             0\n",
       "Chloramines        0\n",
       "Sulfate            0\n",
       "Conductivity       0\n",
       "Organic_carbon     0\n",
       "Trihalomethanes    0\n",
       "Turbidity          0\n",
       "dtype: int64"
      ]
     },
     "execution_count": 6,
     "metadata": {},
     "output_type": "execute_result"
    }
   ],
   "source": [
    "#Now we can see that our data no longer has any missing value\n",
    "x.isnull().sum()"
   ]
  },
  {
   "cell_type": "markdown",
   "id": "332b6207",
   "metadata": {},
   "source": [
    "# Data Analysis & Data Visualization\n",
    "\n",
    "Before building the model I will look further into the data to build a good intuition regarding the data. I will also use data visualization tools to help us in building our intuition."
   ]
  },
  {
   "cell_type": "code",
   "execution_count": 7,
   "id": "55326379",
   "metadata": {},
   "outputs": [
    {
     "data": {
      "text/plain": [
       "0    0.60989\n",
       "1    0.39011\n",
       "Name: Potability, dtype: float64"
      ]
     },
     "execution_count": 7,
     "metadata": {},
     "output_type": "execute_result"
    }
   ],
   "source": [
    "#First I would like to see that what percentage of the output is potable and what percentage is not potable\n",
    "df['Potability'].value_counts(normalize=True)\n",
    "#We can see that almost 61 % is potable while 31% is not potable"
   ]
  },
  {
   "cell_type": "code",
   "execution_count": 8,
   "id": "0bdcd2d2",
   "metadata": {},
   "outputs": [
    {
     "data": {
      "image/png": "[encoded data removed]",
      "text/plain": [
       "<Figure size 640x480 with 1 Axes>"
      ]
     },
     "metadata": {},
     "output_type": "display_data"
    }
   ],
   "source": [
    "#we can see this also with a pie chart:\n",
    "dc= df.value_counts('Potability')\n",
    "plt.pie(dc.values, labels=dc.index);"
   ]
  },
  {
   "cell_type": "code",
   "execution_count": 9,
   "id": "7ba66c70",
   "metadata": {},
   "outputs": [
    {
     "data": {
      "image/png": "[encoded data removed]",
      "text/plain": [
       "<Figure size 1200x1400 with 2 Axes>"
      ]
     },
     "metadata": {},
     "output_type": "display_data"
    }
   ],
   "source": [
    "#I want to see the corelation between the elements in the water:\n",
    "fig, ax = plt.subplots(figsize=(12, 14))\n",
    "heatmap = sb.heatmap(x.corr(), square = True, linewidths = .7, cmap = 'Blues',  vmin = -1,vmax = 1,annot = True)"
   ]
  },
  {
   "cell_type": "code",
   "execution_count": 10,
   "id": "be64ba50",
   "metadata": {},
   "outputs": [
    {
     "data": {
      "image/png": "[encoded data removed]",
      "text/plain": [
       "<Figure size 800x500 with 9 Axes>"
      ]
     },
     "metadata": {},
     "output_type": "display_data"
    }
   ],
   "source": [
    "#I also want to check and see if the data has any glaring skewness\n",
    "x.hist(figsize=(8,5))\n",
    "plt.show()"
   ]
  },
  {
   "cell_type": "code",
   "execution_count": 11,
   "id": "9c7708c3",
   "metadata": {},
   "outputs": [
    {
     "data": {
      "text/html": [
       "<div>\n",
       "<style scoped>\n",
       "    .dataframe tbody tr th:only-of-type {\n",
       "        vertical-align: middle;\n",
       "    }\n",
       "\n",
       "    .dataframe tbody tr th {\n",
       "        vertical-align: top;\n",
       "    }\n",
       "\n",
       "    .dataframe thead th {\n",
       "        text-align: right;\n",
       "    }\n",
       "</style>\n",
       "<table border=\"1\" class=\"dataframe\">\n",
       "  <thead>\n",
       "    <tr style=\"text-align: right;\">\n",
       "      <th></th>\n",
       "      <th>ph</th>\n",
       "      <th>Hardness</th>\n",
       "      <th>Solids</th>\n",
       "      <th>Chloramines</th>\n",
       "      <th>Sulfate</th>\n",
       "      <th>Conductivity</th>\n",
       "      <th>Organic_carbon</th>\n",
       "      <th>Trihalomethanes</th>\n",
       "      <th>Turbidity</th>\n",
       "    </tr>\n",
       "  </thead>\n",
       "  <tbody>\n",
       "    <tr>\n",
       "      <th>count</th>\n",
       "      <td>3276.000000</td>\n",
       "      <td>3276.000000</td>\n",
       "      <td>3276.000000</td>\n",
       "      <td>3276.000000</td>\n",
       "      <td>3276.000000</td>\n",
       "      <td>3276.000000</td>\n",
       "      <td>3276.000000</td>\n",
       "      <td>3276.000000</td>\n",
       "      <td>3276.000000</td>\n",
       "    </tr>\n",
       "    <tr>\n",
       "      <th>mean</th>\n",
       "      <td>7.078105</td>\n",
       "      <td>196.369496</td>\n",
       "      <td>22014.092526</td>\n",
       "      <td>7.122277</td>\n",
       "      <td>333.606885</td>\n",
       "      <td>426.205111</td>\n",
       "      <td>14.284970</td>\n",
       "      <td>66.404535</td>\n",
       "      <td>3.966786</td>\n",
       "    </tr>\n",
       "    <tr>\n",
       "      <th>std</th>\n",
       "      <td>1.497176</td>\n",
       "      <td>32.879761</td>\n",
       "      <td>8768.570828</td>\n",
       "      <td>1.583085</td>\n",
       "      <td>37.458153</td>\n",
       "      <td>80.824064</td>\n",
       "      <td>3.308162</td>\n",
       "      <td>15.837376</td>\n",
       "      <td>0.780382</td>\n",
       "    </tr>\n",
       "    <tr>\n",
       "      <th>min</th>\n",
       "      <td>0.000000</td>\n",
       "      <td>47.432000</td>\n",
       "      <td>320.942611</td>\n",
       "      <td>0.352000</td>\n",
       "      <td>129.000000</td>\n",
       "      <td>181.483754</td>\n",
       "      <td>2.200000</td>\n",
       "      <td>0.738000</td>\n",
       "      <td>1.450000</td>\n",
       "    </tr>\n",
       "    <tr>\n",
       "      <th>25%</th>\n",
       "      <td>6.187017</td>\n",
       "      <td>176.850538</td>\n",
       "      <td>15666.690297</td>\n",
       "      <td>6.127421</td>\n",
       "      <td>312.377537</td>\n",
       "      <td>365.734414</td>\n",
       "      <td>12.065801</td>\n",
       "      <td>56.409254</td>\n",
       "      <td>3.439711</td>\n",
       "    </tr>\n",
       "    <tr>\n",
       "      <th>50%</th>\n",
       "      <td>7.052221</td>\n",
       "      <td>196.967627</td>\n",
       "      <td>20927.833607</td>\n",
       "      <td>7.130299</td>\n",
       "      <td>333.268376</td>\n",
       "      <td>421.884968</td>\n",
       "      <td>14.218338</td>\n",
       "      <td>66.610937</td>\n",
       "      <td>3.955028</td>\n",
       "    </tr>\n",
       "    <tr>\n",
       "      <th>75%</th>\n",
       "      <td>7.948570</td>\n",
       "      <td>216.667456</td>\n",
       "      <td>27332.762127</td>\n",
       "      <td>8.114887</td>\n",
       "      <td>355.013586</td>\n",
       "      <td>481.792304</td>\n",
       "      <td>16.557652</td>\n",
       "      <td>76.843337</td>\n",
       "      <td>4.500320</td>\n",
       "    </tr>\n",
       "    <tr>\n",
       "      <th>max</th>\n",
       "      <td>14.000000</td>\n",
       "      <td>323.124000</td>\n",
       "      <td>61227.196008</td>\n",
       "      <td>13.127000</td>\n",
       "      <td>481.030642</td>\n",
       "      <td>753.342620</td>\n",
       "      <td>28.300000</td>\n",
       "      <td>124.000000</td>\n",
       "      <td>6.739000</td>\n",
       "    </tr>\n",
       "  </tbody>\n",
       "</table>\n",
       "</div>"
      ],
      "text/plain": [
       "                ph     Hardness        Solids  Chloramines      Sulfate  \\\n",
       "count  3276.000000  3276.000000   3276.000000  3276.000000  3276.000000   \n",
       "mean      7.078105   196.369496  22014.092526     7.122277   333.606885   \n",
       "std       1.497176    32.879761   8768.570828     1.583085    37.458153   \n",
       "min       0.000000    47.432000    320.942611     0.352000   129.000000   \n",
       "25%       6.187017   176.850538  15666.690297     6.127421   312.377537   \n",
       "50%       7.052221   196.967627  20927.833607     7.130299   333.268376   \n",
       "75%       7.948570   216.667456  27332.762127     8.114887   355.013586   \n",
       "max      14.000000   323.124000  61227.196008    13.127000   481.030642   \n",
       "\n",
       "       Conductivity  Organic_carbon  Trihalomethanes    Turbidity  \n",
       "count   3276.000000     3276.000000      3276.000000  3276.000000  \n",
       "mean     426.205111       14.284970        66.404535     3.966786  \n",
       "std       80.824064        3.308162        15.837376     0.780382  \n",
       "min      181.483754        2.200000         0.738000     1.450000  \n",
       "25%      365.734414       12.065801        56.409254     3.439711  \n",
       "50%      421.884968       14.218338        66.610937     3.955028  \n",
       "75%      481.792304       16.557652        76.843337     4.500320  \n",
       "max      753.342620       28.300000       124.000000     6.739000  "
      ]
     },
     "execution_count": 11,
     "metadata": {},
     "output_type": "execute_result"
    }
   ],
   "source": [
    "x.describe()\n",
    "#This code is very useful and will give an overview of the data and where the most data points for each feature is"
   ]
  },
  {
   "cell_type": "markdown",
   "id": "63b6aa81",
   "metadata": {},
   "source": [
    "# Data Normalization\n",
    "\n",
    "One more step before building the model is needed and that is data normalization. Data normalization is the practice of organizing data entries to ensure they appear similar across all fields and records. It usually helps one to build a better model as the computations will be done more smoothly."
   ]
  },
  {
   "cell_type": "markdown",
   "id": "501d43ac",
   "metadata": {},
   "source": [
    "## MinMaxScaler\n",
    "\n",
    "MinMaxScaler is a popular data normalization that scales the data to a fixed range, typically between 0 and 1."
   ]
  },
  {
   "cell_type": "code",
   "execution_count": 12,
   "id": "4ace5aed",
   "metadata": {},
   "outputs": [
    {
     "data": {
      "text/html": [
       "<div>\n",
       "<style scoped>\n",
       "    .dataframe tbody tr th:only-of-type {\n",
       "        vertical-align: middle;\n",
       "    }\n",
       "\n",
       "    .dataframe tbody tr th {\n",
       "        vertical-align: top;\n",
       "    }\n",
       "\n",
       "    .dataframe thead th {\n",
       "        text-align: right;\n",
       "    }\n",
       "</style>\n",
       "<table border=\"1\" class=\"dataframe\">\n",
       "  <thead>\n",
       "    <tr style=\"text-align: right;\">\n",
       "      <th></th>\n",
       "      <th>ph</th>\n",
       "      <th>Hardness</th>\n",
       "      <th>Solids</th>\n",
       "      <th>Chloramines</th>\n",
       "      <th>Sulfate</th>\n",
       "      <th>Conductivity</th>\n",
       "      <th>Organic_carbon</th>\n",
       "      <th>Trihalomethanes</th>\n",
       "      <th>Turbidity</th>\n",
       "    </tr>\n",
       "  </thead>\n",
       "  <tbody>\n",
       "    <tr>\n",
       "      <th>0</th>\n",
       "      <td>0.511204</td>\n",
       "      <td>0.571139</td>\n",
       "      <td>0.336096</td>\n",
       "      <td>0.543891</td>\n",
       "      <td>0.680385</td>\n",
       "      <td>0.669439</td>\n",
       "      <td>0.313402</td>\n",
       "      <td>0.699753</td>\n",
       "      <td>0.286091</td>\n",
       "    </tr>\n",
       "    <tr>\n",
       "      <th>1</th>\n",
       "      <td>0.265434</td>\n",
       "      <td>0.297400</td>\n",
       "      <td>0.300611</td>\n",
       "      <td>0.491839</td>\n",
       "      <td>0.588285</td>\n",
       "      <td>0.719411</td>\n",
       "      <td>0.497319</td>\n",
       "      <td>0.450999</td>\n",
       "      <td>0.576793</td>\n",
       "    </tr>\n",
       "    <tr>\n",
       "      <th>2</th>\n",
       "      <td>0.578509</td>\n",
       "      <td>0.641311</td>\n",
       "      <td>0.321619</td>\n",
       "      <td>0.698543</td>\n",
       "      <td>0.572249</td>\n",
       "      <td>0.414652</td>\n",
       "      <td>0.562017</td>\n",
       "      <td>0.532866</td>\n",
       "      <td>0.303637</td>\n",
       "    </tr>\n",
       "    <tr>\n",
       "      <th>3</th>\n",
       "      <td>0.594055</td>\n",
       "      <td>0.605536</td>\n",
       "      <td>0.356244</td>\n",
       "      <td>0.603314</td>\n",
       "      <td>0.647347</td>\n",
       "      <td>0.317880</td>\n",
       "      <td>0.622089</td>\n",
       "      <td>0.808065</td>\n",
       "      <td>0.601015</td>\n",
       "    </tr>\n",
       "    <tr>\n",
       "      <th>4</th>\n",
       "      <td>0.649445</td>\n",
       "      <td>0.484851</td>\n",
       "      <td>0.289922</td>\n",
       "      <td>0.484900</td>\n",
       "      <td>0.514545</td>\n",
       "      <td>0.379337</td>\n",
       "      <td>0.358555</td>\n",
       "      <td>0.253606</td>\n",
       "      <td>0.496327</td>\n",
       "    </tr>\n",
       "  </tbody>\n",
       "</table>\n",
       "</div>"
      ],
      "text/plain": [
       "         ph  Hardness    Solids  Chloramines   Sulfate  Conductivity  \\\n",
       "0  0.511204  0.571139  0.336096     0.543891  0.680385      0.669439   \n",
       "1  0.265434  0.297400  0.300611     0.491839  0.588285      0.719411   \n",
       "2  0.578509  0.641311  0.321619     0.698543  0.572249      0.414652   \n",
       "3  0.594055  0.605536  0.356244     0.603314  0.647347      0.317880   \n",
       "4  0.649445  0.484851  0.289922     0.484900  0.514545      0.379337   \n",
       "\n",
       "   Organic_carbon  Trihalomethanes  Turbidity  \n",
       "0        0.313402         0.699753   0.286091  \n",
       "1        0.497319         0.450999   0.576793  \n",
       "2        0.562017         0.532866   0.303637  \n",
       "3        0.622089         0.808065   0.601015  \n",
       "4        0.358555         0.253606   0.496327  "
      ]
     },
     "execution_count": 12,
     "metadata": {},
     "output_type": "execute_result"
    }
   ],
   "source": [
    "scale_x=minmax_scale(x, feature_range=(0,1))\n",
    "#After scaling the data, the data will be a combination of raw numbers in ndarray numpy format and no longer in the pandas data frame which we need\n",
    "#So now I will bring those numbers after normalization and put them in our original data frame using the pandas library: \n",
    "x=pd.DataFrame(scale_x , index=x.index, columns=x.columns)\n",
    "x.head()"
   ]
  },
  {
   "cell_type": "markdown",
   "id": "3eb0d224",
   "metadata": {},
   "source": [
    "# Model\n",
    "\n",
    "Now, I will build the model. First I will split the data into four parts: X_train(features of the data given to the model to train on and learn from), y_train(given label for the corresponding features in X_train for the computer to train on and learn from), X_test(given features to the computer so the computer would give the labels based on the model and algorithm that it trained on), y_test(the hold-out labels corresponding to the features in the X_test (the real labels for hose records) this is used to test the models accuracy)"
   ]
  },
  {
   "cell_type": "code",
   "execution_count": 13,
   "id": "e07753fb",
   "metadata": {},
   "outputs": [
    {
     "data": {
      "text/plain": [
       "((2293, 9), (983, 9), (2293,), (983,))"
      ]
     },
     "execution_count": 13,
     "metadata": {},
     "output_type": "execute_result"
    }
   ],
   "source": [
    "#The 'Potability' feature is our label so I drop it from our x section which is only the input features\n",
    "#And our y, which is only the label will be the 'Potability'\n",
    "y=df.Potability\n",
    "\n",
    "#I split the data into the 4 parts mentioned above and use the test size 0.3, meaning that 70% of the data will be trained on and 30% will be used to test our model\n",
    "X_train,X_test,y_train,y_test= train_test_split(x,y, test_size=0.3, random_state=42)\n",
    "#Finally I will use .shape to see shape and size of each part of our data\n",
    "X_train.shape,X_test.shape,y_train.shape,y_test.shape"
   ]
  },
  {
   "cell_type": "markdown",
   "id": "32ab94ee",
   "metadata": {},
   "source": [
    "#### class_weight\n",
    "\n",
    "Above, we saw that within our data the amount of potable water is 61% while the not potable water is only 31%. This can creat problems for our model as there are much more potable water than not potable water so our model could be biased. In order to stop the bias in our model, I will use the class_weight code that will give more weight to one class compared to other based on the numbers one chooses."
   ]
  },
  {
   "cell_type": "code",
   "execution_count": 14,
   "id": "535b712b",
   "metadata": {},
   "outputs": [],
   "source": [
    "log=LogisticRegression(max_iter=1000, class_weight={0:0.4,1:0.6})\n",
    "log.fit(X_train, y_train)\n",
    "logpred = log.predict(X_test)"
   ]
  },
  {
   "cell_type": "code",
   "execution_count": 15,
   "id": "6b4338d4",
   "metadata": {},
   "outputs": [],
   "source": [
    "ridg=RidgeClassifier(class_weight={0:0.4,1:0.6})\n",
    "ridg.fit(X_train, y_train)\n",
    "ridgpred = ridg.predict(X_test)"
   ]
  },
  {
   "cell_type": "code",
   "execution_count": 16,
   "id": "28ea0f9a",
   "metadata": {},
   "outputs": [],
   "source": [
    "sgd=SGDClassifier(max_iter=1000, tol=1e-3, class_weight={0:0.4,1:0.6})\n",
    "sgd.fit(X_train, y_train)\n",
    "sgdpred = sgd.predict(X_test)"
   ]
  },
  {
   "cell_type": "code",
   "execution_count": 17,
   "id": "0a2c8e0c",
   "metadata": {},
   "outputs": [],
   "source": [
    "from sklearn import svm\n",
    "svm = svm.SVC(kernel='linear', class_weight={0:0.4,1:0.6})\n",
    "svm.fit(X_train, y_train)\n",
    "svmpred = svm.predict(X_test)"
   ]
  },
  {
   "cell_type": "markdown",
   "id": "139da5b5",
   "metadata": {},
   "source": [
    "# Model Evaluation\n",
    "\n",
    "Here I will test the performance of our model and see how well it has done based on metrics such as accuracy, recall score and..."
   ]
  },
  {
   "cell_type": "code",
   "execution_count": 18,
   "id": "71cd33c0",
   "metadata": {},
   "outputs": [],
   "source": [
    "#Accuracy score checks the accuracy of our model\n",
    "\n",
    "#Recall score is also known as sensitivity or the true positive rate, The higher the recall score, the better the machine learning model is at identifying both positive and negative examples.\n",
    "\n",
    "#precision score measures the proportion of positively predicted labels that are actually correct. Precision is also known as the positive predictive value\n",
    "\n",
    "#F1 score represents the model score as a function of precision and recall score.\n",
    "#F-score is a machine learning model performance metric that gives equal weight to both the Precision and Recall\n",
    "\n",
    "#Below, I will use the classification_report code to show all the models performances based on the metrics explained above"
   ]
  },
  {
   "cell_type": "code",
   "execution_count": 19,
   "id": "6dcc8242",
   "metadata": {},
   "outputs": [
    {
     "name": "stdout",
     "output_type": "stream",
     "text": [
      "              precision    recall  f1-score   support\n",
      "\n",
      "           0       0.64      0.57      0.60       617\n",
      "           1       0.38      0.45      0.42       366\n",
      "\n",
      "    accuracy                           0.52       983\n",
      "   macro avg       0.51      0.51      0.51       983\n",
      "weighted avg       0.54      0.52      0.53       983\n",
      "\n"
     ]
    }
   ],
   "source": [
    "print(classification_report(y_test,logpred))"
   ]
  },
  {
   "cell_type": "code",
   "execution_count": 39,
   "id": "edcb1718",
   "metadata": {},
   "outputs": [
    {
     "name": "stdout",
     "output_type": "stream",
     "text": [
      "              precision    recall  f1-score   support\n",
      "\n",
      "           0       0.64      0.56      0.59       617\n",
      "           1       0.38      0.46      0.42       366\n",
      "\n",
      "    accuracy                           0.52       983\n",
      "   macro avg       0.51      0.51      0.51       983\n",
      "weighted avg       0.54      0.52      0.53       983\n",
      "\n"
     ]
    }
   ],
   "source": [
    "print(classification_report(y_test,ridgpred))"
   ]
  },
  {
   "cell_type": "code",
   "execution_count": 20,
   "id": "ddf033fc",
   "metadata": {},
   "outputs": [
    {
     "name": "stdout",
     "output_type": "stream",
     "text": [
      "              precision    recall  f1-score   support\n",
      "\n",
      "           0       0.63      1.00      0.77       617\n",
      "           1       1.00      0.01      0.02       366\n",
      "\n",
      "    accuracy                           0.63       983\n",
      "   macro avg       0.81      0.50      0.39       983\n",
      "weighted avg       0.77      0.63      0.49       983\n",
      "\n"
     ]
    }
   ],
   "source": [
    "print(classification_report(y_test,sgdpred))"
   ]
  },
  {
   "cell_type": "code",
   "execution_count": 21,
   "id": "776fa622",
   "metadata": {},
   "outputs": [
    {
     "name": "stdout",
     "output_type": "stream",
     "text": [
      "              precision    recall  f1-score   support\n",
      "\n",
      "           0       0.65      0.73      0.69       617\n",
      "           1       0.43      0.34      0.38       366\n",
      "\n",
      "    accuracy                           0.58       983\n",
      "   macro avg       0.54      0.54      0.53       983\n",
      "weighted avg       0.57      0.58      0.57       983\n",
      "\n"
     ]
    }
   ],
   "source": [
    "print(classification_report(y_test,svmpred))"
   ]
  },
  {
   "cell_type": "markdown",
   "id": "fa19080f",
   "metadata": {},
   "source": [
    "# Conclusion\n",
    "\n",
    "In this lab I tried to build a logistic regression model, a support vector machine, a ridge classification model and a stochastic gradient descent model to predict the quality of the water and whether its potable or not with the given dataset. I also used the k-Nearest Neighbors algorithm imputer to deal with the missing data and used the MinMaxScaler to scale and normalized the data. Furthermore, I analyzed the data and used data visualization to get a better intuition of our data. Finally I evaluated each model with standard well-known classifiction model metrics such as f1 score and accuracy score."
   ]
  },
  {
   "cell_type": "markdown",
   "id": "475f07ce",
   "metadata": {},
   "source": [
    "# Refrences\n",
    "\n",
    "Note that I have used codes and peices of information from other sources in this lab such as IBM, Andrew NG, Coursera platform, Wikipedia website, the https://scikit-learn.org/stable/index.html website and the https://vitalflux.com/ website."
   ]
  }
 ],
 "metadata": {
  "kernelspec": {
   "display_name": "Python 3 (ipykernel)",
   "language": "python",
   "name": "python3"
  },
  "language_info": {
   "codemirror_mode": {
    "name": "ipython",
    "version": 3
   },
   "file_extension": ".py",
   "mimetype": "text/x-python",
   "name": "python",
   "nbconvert_exporter": "python",
   "pygments_lexer": "ipython3",
   "version": "3.10.9"
  }
 },
 "nbformat": 4,
 "nbformat_minor": 5
}
